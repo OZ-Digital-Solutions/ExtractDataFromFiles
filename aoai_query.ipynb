{
 "cells": [
  {
   "cell_type": "markdown",
   "metadata": {},
   "source": [
    "Use Azure OpenAI to query the files."
   ]
  },
  {
   "cell_type": "code",
   "execution_count": null,
   "metadata": {},
   "outputs": [
    {
     "name": "stdout",
     "output_type": "stream",
     "text": [
      "Note: you may need to restart the kernel to use updated packages.\n"
     ]
    },
    {
     "name": "stderr",
     "output_type": "stream",
     "text": [
      "ERROR: Could not find a version that satisfies the requirement azure-openai (from versions: none)\n",
      "ERROR: No matching distribution found for azure-openai\n"
     ]
    }
   ],
   "source": [
    "#!pip install pymupdf\n",
    "#!pip install python-docx\n",
    "#!pip install python-dotenv\n",
    "#%pip install azure-openai\n",
    "#%pip install openai"
   ]
  },
  {
   "cell_type": "code",
   "execution_count": 1,
   "metadata": {},
   "outputs": [],
   "source": [
    "import fitz  \n",
    "import json\n",
    "import os\n",
    "import openai\n",
    "from docx import Document\n",
    "from dotenv import load_dotenv\n",
    "from openai import AzureOpenAI"
   ]
  },
  {
   "cell_type": "code",
   "execution_count": 7,
   "metadata": {},
   "outputs": [],
   "source": [
    "load_dotenv(\"azure.env\")\n",
    "\n",
    "api_type: str = \"azure\"\n",
    "api_key = os.getenv(\"OPENAI_API_KEY\")\n",
    "api_base = os.getenv(\"OPENAI_API_BASE\")\n",
    "\n",
    "model = \"gpt-4o\""
   ]
  },
  {
   "cell_type": "code",
   "execution_count": 8,
   "metadata": {},
   "outputs": [
    {
     "name": "stdout",
     "output_type": "stream",
     "text": [
      "OpenAI version: 1.54.3\n",
      "https://ais-aoai-wrb-regulatory-poc.openai.azure.com/\n",
      "gpt-4o\n"
     ]
    }
   ],
   "source": [
    "print(f\"OpenAI version: {openai.__version__}\")\n",
    "print(api_base)\n",
    "print(model)"
   ]
  },
  {
   "cell_type": "code",
   "execution_count": 9,
   "metadata": {},
   "outputs": [],
   "source": [
    "def read_file(file_path):\n",
    "    file_extension = os.path.splitext(file_path)[1].lower()\n",
    "    \n",
    "    if file_extension == '.pdf':\n",
    "        try:\n",
    "            text = \"\"\n",
    "            pdf_document = fitz.open(file_path)\n",
    "            for page_num in range(pdf_document.page_count):\n",
    "                page = pdf_document.load_page(page_num)\n",
    "                text += page.get_text(\"text\") \n",
    "            return text\n",
    "        except Exception as e:\n",
    "            print(f\"[ERROR] Could not read the PDF file {file_path}: {e}\")\n",
    "            return None\n",
    "    \n",
    "    elif file_extension == '.txt':\n",
    "        try:\n",
    "            with open(file_path, 'r', encoding='utf-8') as f:\n",
    "                return f.read()\n",
    "        except Exception as e:\n",
    "            print(f\"[ERROR] Could not read the txt file {file_path}: {e}\")\n",
    "            return None\n",
    "    \n",
    "    elif file_extension == '.json':\n",
    "        try:\n",
    "            with open(file_path, 'r', encoding='utf-8') as f:\n",
    "                data = json.load(f)\n",
    "                return json.dumps(data, indent=2)\n",
    "        except Exception as e:\n",
    "            print(f\"[ERROR] Could not read the JSON file {file_path}: {e}\")\n",
    "            return None\n",
    "\n",
    "    elif file_extension == '.docx':\n",
    "        try:\n",
    "            text = \"\"\n",
    "            doc = Document(file_path)\n",
    "            for para in doc.paragraphs:\n",
    "                text += para.text + \"\\n\" \n",
    "            return text\n",
    "        except Exception as e:\n",
    "            print(f\"[ERROR] Could not read the docx file {file_path}: {e}\")\n",
    "            return None\n",
    "    \n",
    "    else:\n",
    "        print(f\"[ERROR] Unsupported file type: {file_extension}\")\n",
    "        return None"
   ]
  },
  {
   "cell_type": "code",
   "execution_count": 10,
   "metadata": {},
   "outputs": [],
   "source": [
    "def gpt_file_analysis(file_content, prompt):\n",
    "    client = AzureOpenAI(\n",
    "        api_key=api_key,\n",
    "        api_version=\"2024-07-01-preview\",\n",
    "        base_url=f\"{api_base}/openai/deployments/{model}\",\n",
    "    )\n",
    "\n",
    "    response = client.chat.completions.create(\n",
    "        model=model,\n",
    "        messages=[\n",
    "            {\n",
    "                \"role\": \"system\",\n",
    "                \"content\": (\n",
    "                    \"You are a helpful assistant that analyzes text content from PDF, TXT, JSON, and DOCX files. \"\n",
    "                    \"When generating responses, prioritize providing clear and concise information directly related to the file's content. \"\n",
    "                    \"Follow these rules strictly in your responses: \"\n",
    "                    \"- If specific information is available, include it in your response with emphasis on clarity and brevity. \"\n",
    "                    \"- If the file cannot be read or the information cannot be extracted, please specify the reason.\"\n",
    "                ),\n",
    "            },\n",
    "            {\n",
    "                \"role\": \"user\",\n",
    "                \"content\": f\"{prompt}\\n\\n{file_content}\",\n",
    "            },\n",
    "        ],\n",
    "        max_tokens=2000,\n",
    "        temperature=0.3,\n",
    "    )\n",
    "\n",
    "    if response.choices:\n",
    "        return response.choices[0].message.content\n",
    "    else:\n",
    "        return \"Error: No response from model.\"\n"
   ]
  },
  {
   "cell_type": "code",
   "execution_count": null,
   "metadata": {},
   "outputs": [
    {
     "name": "stdout",
     "output_type": "stream",
     "text": [
      "[INFO] Analysis completed.\n",
      "The document is a comprehensive guide for coding and reporting general liability insurance data, specifically focusing on unmanned aircraft (drones) and cyber insurance. It includes detailed instructions and codes for various fields such as accounting date, aggregate policy limits, annual statement line of business codes, classification codes, company numbers, coverage codes, deductible amounts, and more. The document also provides specific codes for different types of losses, policy limits, and transaction types. Additionally, it outlines the requirements for reporting premiums, exposures, and losses, including special instructions for cancellations and exceptions. The guide is intended for use by insurance companies to ensure accurate and consistent data submission to the Insurance Services Office (ISO).\n"
     ]
    }
   ],
   "source": [
    "file_path = \"ISO CSP Manual Coding and Rules.pdf\"\n",
    "file_content = read_file(file_path)\n",
    "if file_content is None:\n",
    "    print(\"[ERROR] Could not read the file. Please check the path and format.\")\n",
    "    exit()\n",
    "\n",
    "prompt = \"Briefly summarize the content of the document. In pagraph form, describe the main topics covered in the document and any key points or findings.\"\n",
    "result = gpt_file_analysis(file_content, prompt)\n",
    "\n",
    "print(\"[INFO] Analysis completed.\")\n",
    "print(result)"
   ]
  },
  {
   "cell_type": "code",
   "execution_count": null,
   "metadata": {},
   "outputs": [],
   "source": [
    "file_path = \"ISO CSP Manual Coding and Rules.pdf\"\n",
    "file_content = read_file(file_path)\n",
    "if file_content is None:\n",
    "    print(\"[ERROR] Could not read the file. Please check the path and format.\")\n",
    "    exit()\n",
    "\n",
    "prompt = \"what are the valid code and values for ISO CSP reporting for each attribute? I want in a table format\"\n",
    "result = gpt_file_analysis(file_content, prompt)\n",
    "\n",
    "print(\"[INFO] Analysis completed.\")\n",
    "print(result)"
   ]
  }
 ],
 "metadata": {
  "kernelspec": {
   "display_name": ".venv",
   "language": "python",
   "name": "python3"
  },
  "language_info": {
   "codemirror_mode": {
    "name": "ipython",
    "version": 3
   },
   "file_extension": ".py",
   "mimetype": "text/x-python",
   "name": "python",
   "nbconvert_exporter": "python",
   "pygments_lexer": "ipython3",
   "version": "3.11.9"
  }
 },
 "nbformat": 4,
 "nbformat_minor": 2
}
